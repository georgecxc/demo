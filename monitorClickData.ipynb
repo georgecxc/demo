{
 "cells": [
  {
   "cell_type": "code",
   "execution_count": 1,
   "id": "a852d677",
   "metadata": {},
   "outputs": [],
   "source": [
    "import numpy as np\n",
    "import pandas as pd\n",
    "import datetime\n",
    "import random"
   ]
  },
  {
   "cell_type": "code",
   "execution_count": 2,
   "id": "de189268",
   "metadata": {},
   "outputs": [],
   "source": [
    "nusers=1000"
   ]
  },
  {
   "cell_type": "code",
   "execution_count": 3,
   "id": "16a30e7d",
   "metadata": {},
   "outputs": [],
   "source": [
    "sessions=np.random.poisson(lam=1.5,size=nusers)"
   ]
  },
  {
   "cell_type": "code",
   "execution_count": 4,
   "id": "1ba3e621",
   "metadata": {},
   "outputs": [],
   "source": [
    "df=pd.DataFrame({'userId':[],'sessionId':[],'eventTime':[],'pageName':[]})"
   ]
  },
  {
   "cell_type": "code",
   "execution_count": 5,
   "id": "06b0c097",
   "metadata": {},
   "outputs": [],
   "source": [
    "def nextpage(x):\n",
    "\n",
    "    if x=='start':\n",
    "        options=['question','info','step1','exit']\n",
    "        prob=[0.1,0.3,0.3,0.3]\n",
    "    elif x=='question':\n",
    "        options=['start','exit']\n",
    "        prob=[0.8,0.2]\n",
    "    elif x=='info':\n",
    "        options=['start','exit']\n",
    "        prob=[0.7,0.3]\n",
    "    elif x=='step1':\n",
    "        options=['help1','step2','exit','start']\n",
    "        prob=[0.2,0.6,0.1,0.1]\n",
    "    elif x=='help1':\n",
    "        options=['step1','exit']\n",
    "        prob=[0.9,0.1]\n",
    "    elif x=='step2':\n",
    "        options=['help2','checkout','exit','step1']\n",
    "        prob=[0.5,0.3,0.1,0.1]\n",
    "    elif x=='help2':\n",
    "        options=['step2','exit']\n",
    "        prob=[0.6,0.4]\n",
    "    elif x=='checkout':\n",
    "        options=['step2','success','exit','error']\n",
    "        prob=[0.1,0.1,0.5,0.3]\n",
    "    elif x=='error':\n",
    "        options=['checkout','exit']\n",
    "        prob=[0.2,0.8]\n",
    "    return random.choices(options,weights=prob,k=1)[0]"
   ]
  },
  {
   "cell_type": "code",
   "execution_count": 6,
   "id": "9b55ff12",
   "metadata": {},
   "outputs": [],
   "source": [
    "for i in range(nusers):\n",
    "    start=datetime.date(2025,1,1)\n",
    "    end=datetime.date(2025,2,1)\n",
    "    for j in range(sessions[i]):\n",
    "        daysd=(end-start).days\n",
    "        daysr=start+datetime.timedelta(days=random.randrange(daysd))\n",
    "        hoursr=random.randint(0,23)\n",
    "        minutesr=random.randint(0,59)\n",
    "        secondsr=random.randint(0,59)\n",
    "        timer=datetime.datetime(daysr.year,daysr.month,daysr.day,hoursr,minutesr,secondsr)\n",
    "        df.loc[len(df)]=[f'user_{i}',f'u{i}s{j}',timer,'start']\n",
    "        while df['pageName'][len(df)-1]!='exit' and df['pageName'][len(df)-1]!='success':\n",
    "            minutesr=random.randint(0,9)\n",
    "            secondsr=random.randint(0,59)\n",
    "            timer+=datetime.timedelta(minutes=minutesr,seconds=secondsr)\n",
    "            df.loc[len(df)]=[f'user_{i}',f'u{i}s{j}',timer,nextpage(df['pageName'][len(df)-1])]\n",
    "        start=datetime.date(timer.year,timer.month,timer.day)+datetime.timedelta(days=1)\n",
    "        end+=datetime.timedelta(days=2)"
   ]
  },
  {
   "cell_type": "code",
   "execution_count": 7,
   "id": "2d4af3fd",
   "metadata": {},
   "outputs": [],
   "source": [
    "df=df.sort_values(by='eventTime').reset_index(drop=True)"
   ]
  },
  {
   "cell_type": "code",
   "execution_count": 8,
   "id": "60b9af6f",
   "metadata": {},
   "outputs": [],
   "source": [
    "indexes=df.sample(int(len(df)*0.01)).index\n",
    "dup=df.loc[indexes].copy()\n",
    "df1=pd.concat([df,dup],ignore_index=True).reset_index(drop=True)\n",
    "\n",
    "indexes=df1.sample(int(len(df1)*0.01)).index\n",
    "dup=df1.loc[indexes].copy()\n",
    "diff=np.random.randint(-5,6,size=len(dup))\n",
    "dup['eventTime']=pd.to_datetime(dup['eventTime'])+pd.to_timedelta(diff,unit='s')\n",
    "df2=pd.concat([df1,dup],ignore_index=True).reset_index(drop=True)\n",
    "\n",
    "indexes=df2.sample(int(len(df2)*0.01)).index\n",
    "df3=df2.copy()\n",
    "df3.loc[indexes,'pageName']=np.nan\n",
    "\n",
    "df4=df3.copy()\n",
    "indexes=df4[df4['pageName'].notna()].sample(int(len(df4)*0.01)).index\n",
    "df4.loc[indexes,'pageName']=df4.loc[indexes,'pageName'].str.title()\n",
    "\n",
    "df5=df4.copy()\n",
    "indexes=df5.sample(int(len(df5)*0.001)).index\n",
    "df5.loc[indexes,'eventTime']=pd.to_datetime('1970-01-01')\n",
    "\n",
    "df6=df5.copy()\n",
    "df6['device']=random.choices(['IOS','Android','Web'],[0.4,0.4,0.2],k=len(df6))"
   ]
  },
  {
   "cell_type": "code",
   "execution_count": 9,
   "id": "d83cd092",
   "metadata": {},
   "outputs": [],
   "source": [
    "df6.to_csv('simulatedData.csv',index=False)"
   ]
  }
 ],
 "metadata": {
  "kernelspec": {
   "display_name": "Python 3 (ipykernel)",
   "language": "python",
   "name": "python3"
  },
  "language_info": {
   "codemirror_mode": {
    "name": "ipython",
    "version": 3
   },
   "file_extension": ".py",
   "mimetype": "text/x-python",
   "name": "python",
   "nbconvert_exporter": "python",
   "pygments_lexer": "ipython3",
   "version": "3.9.13"
  }
 },
 "nbformat": 4,
 "nbformat_minor": 5
}
