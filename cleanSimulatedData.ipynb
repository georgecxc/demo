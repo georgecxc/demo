{
 "cells": [
  {
   "cell_type": "code",
   "execution_count": 1,
   "id": "cc3d3592",
   "metadata": {},
   "outputs": [],
   "source": [
    "import pandas as pd\n",
    "import numpy as np\n",
    "import datetime\n",
    "#import re"
   ]
  },
  {
   "cell_type": "code",
   "execution_count": 2,
   "id": "6e3fa290",
   "metadata": {},
   "outputs": [],
   "source": [
    "df = pd.read_csv('simulatedData.csv')"
   ]
  },
  {
   "cell_type": "code",
   "execution_count": 3,
   "id": "a362194b",
   "metadata": {},
   "outputs": [
    {
     "data": {
      "text/html": [
       "<div>\n",
       "<style scoped>\n",
       "    .dataframe tbody tr th:only-of-type {\n",
       "        vertical-align: middle;\n",
       "    }\n",
       "\n",
       "    .dataframe tbody tr th {\n",
       "        vertical-align: top;\n",
       "    }\n",
       "\n",
       "    .dataframe thead th {\n",
       "        text-align: right;\n",
       "    }\n",
       "</style>\n",
       "<table border=\"1\" class=\"dataframe\">\n",
       "  <thead>\n",
       "    <tr style=\"text-align: right;\">\n",
       "      <th></th>\n",
       "      <th>userId</th>\n",
       "      <th>sessionId</th>\n",
       "      <th>eventTime</th>\n",
       "      <th>pageName</th>\n",
       "      <th>device</th>\n",
       "    </tr>\n",
       "  </thead>\n",
       "  <tbody>\n",
       "    <tr>\n",
       "      <th>0</th>\n",
       "      <td>user_144</td>\n",
       "      <td>u144s0</td>\n",
       "      <td>2025-01-01 01:58:46</td>\n",
       "      <td>start</td>\n",
       "      <td>IOS</td>\n",
       "    </tr>\n",
       "    <tr>\n",
       "      <th>1</th>\n",
       "      <td>user_144</td>\n",
       "      <td>u144s0</td>\n",
       "      <td>2025-01-01 02:02:29</td>\n",
       "      <td>info</td>\n",
       "      <td>IOS</td>\n",
       "    </tr>\n",
       "    <tr>\n",
       "      <th>2</th>\n",
       "      <td>user_144</td>\n",
       "      <td>u144s0</td>\n",
       "      <td>2025-01-01 02:07:42</td>\n",
       "      <td>start</td>\n",
       "      <td>Android</td>\n",
       "    </tr>\n",
       "    <tr>\n",
       "      <th>3</th>\n",
       "      <td>user_144</td>\n",
       "      <td>u144s0</td>\n",
       "      <td>2025-01-01 02:17:20</td>\n",
       "      <td>step1</td>\n",
       "      <td>Web</td>\n",
       "    </tr>\n",
       "    <tr>\n",
       "      <th>4</th>\n",
       "      <td>user_144</td>\n",
       "      <td>u144s0</td>\n",
       "      <td>2025-01-01 02:27:01</td>\n",
       "      <td>help1</td>\n",
       "      <td>Web</td>\n",
       "    </tr>\n",
       "    <tr>\n",
       "      <th>...</th>\n",
       "      <td>...</td>\n",
       "      <td>...</td>\n",
       "      <td>...</td>\n",
       "      <td>...</td>\n",
       "      <td>...</td>\n",
       "    </tr>\n",
       "    <tr>\n",
       "      <th>7402</th>\n",
       "      <td>user_895</td>\n",
       "      <td>u895s1</td>\n",
       "      <td>2025-01-24 01:23:34</td>\n",
       "      <td>start</td>\n",
       "      <td>IOS</td>\n",
       "    </tr>\n",
       "    <tr>\n",
       "      <th>7403</th>\n",
       "      <td>user_410</td>\n",
       "      <td>u410s3</td>\n",
       "      <td>2025-01-27 04:17:22</td>\n",
       "      <td>help2</td>\n",
       "      <td>Android</td>\n",
       "    </tr>\n",
       "    <tr>\n",
       "      <th>7404</th>\n",
       "      <td>user_762</td>\n",
       "      <td>u762s1</td>\n",
       "      <td>2025-01-08 02:43:19</td>\n",
       "      <td>question</td>\n",
       "      <td>IOS</td>\n",
       "    </tr>\n",
       "    <tr>\n",
       "      <th>7405</th>\n",
       "      <td>user_891</td>\n",
       "      <td>u891s1</td>\n",
       "      <td>2025-01-06 05:02:41</td>\n",
       "      <td>start</td>\n",
       "      <td>Web</td>\n",
       "    </tr>\n",
       "    <tr>\n",
       "      <th>7406</th>\n",
       "      <td>user_449</td>\n",
       "      <td>u449s1</td>\n",
       "      <td>2025-01-10 21:26:29</td>\n",
       "      <td>success</td>\n",
       "      <td>IOS</td>\n",
       "    </tr>\n",
       "  </tbody>\n",
       "</table>\n",
       "<p>7407 rows × 5 columns</p>\n",
       "</div>"
      ],
      "text/plain": [
       "        userId sessionId            eventTime  pageName   device\n",
       "0     user_144    u144s0  2025-01-01 01:58:46     start      IOS\n",
       "1     user_144    u144s0  2025-01-01 02:02:29      info      IOS\n",
       "2     user_144    u144s0  2025-01-01 02:07:42     start  Android\n",
       "3     user_144    u144s0  2025-01-01 02:17:20     step1      Web\n",
       "4     user_144    u144s0  2025-01-01 02:27:01     help1      Web\n",
       "...        ...       ...                  ...       ...      ...\n",
       "7402  user_895    u895s1  2025-01-24 01:23:34     start      IOS\n",
       "7403  user_410    u410s3  2025-01-27 04:17:22     help2  Android\n",
       "7404  user_762    u762s1  2025-01-08 02:43:19  question      IOS\n",
       "7405  user_891    u891s1  2025-01-06 05:02:41     start      Web\n",
       "7406  user_449    u449s1  2025-01-10 21:26:29   success      IOS\n",
       "\n",
       "[7407 rows x 5 columns]"
      ]
     },
     "execution_count": 3,
     "metadata": {},
     "output_type": "execute_result"
    }
   ],
   "source": [
    "df"
   ]
  },
  {
   "cell_type": "code",
   "execution_count": 4,
   "id": "e1f56301",
   "metadata": {},
   "outputs": [],
   "source": [
    "df['userId']=df['userId'].astype(str)\n",
    "df['sessionId']=df['sessionId'].astype(str)\n",
    "df['eventTime']=pd.to_datetime(df['eventTime'])"
   ]
  },
  {
   "cell_type": "code",
   "execution_count": 5,
   "id": "c2879b25",
   "metadata": {},
   "outputs": [
    {
     "name": "stdout",
     "output_type": "stream",
     "text": [
      "原始行数： 7407\n",
      "完全重复行数： 30\n",
      "pageName缺失数量： 74\n",
      "最晚时间： 2025-02-10 14:38:19\n",
      "最早时间： 1970-01-01 00:00:00\n",
      "不同页面名称计数： start       2171\n",
      "exit        1451\n",
      "step1        915\n",
      "step2        863\n",
      "info         656\n",
      "help2        444\n",
      "checkout     260\n",
      "question     219\n",
      "help1        172\n",
      "error         77\n",
      "success       31\n",
      "Start         31\n",
      "Exit          15\n",
      "Step1          8\n",
      "Step2          6\n",
      "Help2          6\n",
      "Checkout       4\n",
      "Info           3\n",
      "Help1          1\n",
      "Name: pageName, dtype: int64\n"
     ]
    }
   ],
   "source": [
    "print('原始行数：', len(df))\n",
    "print('完全重复行数：', df.duplicated().sum())\n",
    "print('pageName缺失数量：', df['pageName'].isna().sum())\n",
    "print('最晚时间：',df['eventTime'].max())\n",
    "print('最早时间：',df['eventTime'].min())\n",
    "print('不同页面名称计数：',df['pageName'].value_counts())"
   ]
  },
  {
   "cell_type": "code",
   "execution_count": 6,
   "id": "3a916364",
   "metadata": {},
   "outputs": [
    {
     "name": "stdout",
     "output_type": "stream",
     "text": [
      "已去掉 30 重复行\n"
     ]
    }
   ],
   "source": [
    "n=len(df)\n",
    "df=df.drop_duplicates()\n",
    "print('已去掉',n-len(df),'重复行')"
   ]
  },
  {
   "cell_type": "code",
   "execution_count": 7,
   "id": "440e8aee",
   "metadata": {},
   "outputs": [
    {
     "name": "stdout",
     "output_type": "stream",
     "text": [
      "已去掉 7 时间异常行\n"
     ]
    }
   ],
   "source": [
    "judge=df['eventTime']<pd.to_datetime('2020-01-01')\n",
    "df=df.loc[~judge].copy().reset_index(drop=True)\n",
    "print('已去掉',judge.sum(),'时间异常行')"
   ]
  },
  {
   "cell_type": "code",
   "execution_count": 8,
   "id": "65252503",
   "metadata": {},
   "outputs": [],
   "source": [
    "df['pageName']=df['pageName'].astype('string').str.strip()\n",
    "df['pageName']=df['pageName'].str.lower()"
   ]
  },
  {
   "cell_type": "code",
   "execution_count": 9,
   "id": "cd9eccaf",
   "metadata": {},
   "outputs": [
    {
     "data": {
      "text/plain": [
       "start       2189\n",
       "exit        1462\n",
       "step1        918\n",
       "step2        867\n",
       "info         652\n",
       "help2        449\n",
       "checkout     263\n",
       "question     217\n",
       "help1        172\n",
       "error         76\n",
       "success       31\n",
       "Name: pageName, dtype: Int64"
      ]
     },
     "execution_count": 9,
     "metadata": {},
     "output_type": "execute_result"
    }
   ],
   "source": [
    "df['pageName'].value_counts()"
   ]
  },
  {
   "cell_type": "code",
   "execution_count": 10,
   "id": "8ffa2a6b",
   "metadata": {},
   "outputs": [],
   "source": [
    "df=df[df['pageName'].notna()].copy().reset_index(drop=True)"
   ]
  },
  {
   "cell_type": "code",
   "execution_count": 11,
   "id": "199e134f",
   "metadata": {},
   "outputs": [
    {
     "name": "stderr",
     "output_type": "stream",
     "text": [
      "C:\\Users\\chexi\\AppData\\Local\\Temp\\ipykernel_2468\\189213094.py:1: FutureWarning: In a future version of pandas all arguments of DataFrame.drop except for the argument 'labels' will be keyword-only.\n",
      "  df=df.drop(['device'],1)\n"
     ]
    }
   ],
   "source": [
    "df=df.drop(['device'],1)"
   ]
  },
  {
   "cell_type": "code",
   "execution_count": 12,
   "id": "23985b0b",
   "metadata": {},
   "outputs": [
    {
     "name": "stdout",
     "output_type": "stream",
     "text": [
      "去除 112 条近似重复行\n"
     ]
    },
    {
     "name": "stderr",
     "output_type": "stream",
     "text": [
      "C:\\Users\\chexi\\AppData\\Local\\Temp\\ipykernel_2468\\1304559257.py:6: FutureWarning: In a future version of pandas all arguments of DataFrame.drop except for the argument 'labels' will be keyword-only.\n",
      "  df4=df4.reset_index().sort_values(['index']).drop(['index','diff'],1).reset_index(drop=True)\n"
     ]
    }
   ],
   "source": [
    "df1=df.sort_values(['userId','sessionId','pageName','eventTime'])\n",
    "df1['diff']=df1.groupby(['userId','sessionId','pageName'])['eventTime'].diff()\n",
    "df2=df1[(df1['diff'].isna())]\n",
    "df3=df1[(df1['diff'])>pd.Timedelta(seconds=5)]\n",
    "df4=pd.concat([df2, df3], axis=0)\n",
    "df4=df4.reset_index().sort_values(['index']).drop(['index','diff'],1).reset_index(drop=True)\n",
    "print('去除',len(df)-len(df4),'条近似重复行')"
   ]
  },
  {
   "cell_type": "code",
   "execution_count": 13,
   "id": "56011153",
   "metadata": {},
   "outputs": [],
   "source": [
    "df4=df4.sort_values(['sessionId','eventTime']).reset_index(drop=True)"
   ]
  },
  {
   "cell_type": "code",
   "execution_count": 14,
   "id": "cba5f867",
   "metadata": {},
   "outputs": [],
   "source": [
    "df4['prevPage']=df4.groupby('sessionId')['pageName'].shift(1).fillna('entry')"
   ]
  },
  {
   "cell_type": "code",
   "execution_count": 16,
   "id": "17dfdb3b",
   "metadata": {},
   "outputs": [],
   "source": [
    "sessionSuccess=df4.groupby('sessionId')['pageName'].apply(lambda s: (s=='success').any()).rename('sessionSuccess')\n",
    "df4=df4.merge(sessionSuccess, left_on='sessionId', right_index=True)"
   ]
  },
  {
   "cell_type": "code",
   "execution_count": 17,
   "id": "c0b6798b",
   "metadata": {},
   "outputs": [],
   "source": [
    "df4.to_csv('cleanedSimulatedData.csv',index=False)"
   ]
  }
 ],
 "metadata": {
  "kernelspec": {
   "display_name": "Python 3 (ipykernel)",
   "language": "python",
   "name": "python3"
  },
  "language_info": {
   "codemirror_mode": {
    "name": "ipython",
    "version": 3
   },
   "file_extension": ".py",
   "mimetype": "text/x-python",
   "name": "python",
   "nbconvert_exporter": "python",
   "pygments_lexer": "ipython3",
   "version": "3.9.13"
  }
 },
 "nbformat": 4,
 "nbformat_minor": 5
}
